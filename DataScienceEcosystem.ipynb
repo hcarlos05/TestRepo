{
 "cells": [
  {
   "cell_type": "markdown",
   "id": "5e34412f-0d30-4f96-a12e-1d323ddcc1e0",
   "metadata": {},
   "source": [
    "# Data Science Tools and Ecosystem"
   ]
  },
  {
   "cell_type": "markdown",
   "id": "17f421b6-6cbc-440d-988b-451d17fe8dee",
   "metadata": {
    "editable": true,
    "slideshow": {
     "slide_type": ""
    },
    "tags": []
   },
   "source": [
    "In this notebook, Data Science Tools and Ecosystem are summarized."
   ]
  },
  {
   "cell_type": "markdown",
   "id": "ca5a9226-5eef-4f63-92e8-e9d89620df19",
   "metadata": {},
   "source": [
    "Same of the popular languages that Data Scientists use are: \n",
    "* Python\n",
    "* SQL\n",
    "* R"
   ]
  },
  {
   "cell_type": "markdown",
   "id": "121e06f1-13ad-46a3-ae61-e90cc5d2eff0",
   "metadata": {},
   "source": [
    "# Objectives\n",
    "* Use for natural language processing \n",
    "* Data managment and query\n",
    "* Array oriented syntax makes it easiers to translate from math to code for learners"
   ]
  },
  {
   "cell_type": "markdown",
   "id": "657fe532-c603-427d-b45a-35e0ed689088",
   "metadata": {},
   "source": [
    "Same of the commonly used libraries used by Data Scientists include:\n",
    "* Python librariesy\n",
    "* Matplotlib\n",
    "* Pandas\n",
    "* Scikit-learn"
   ]
  },
  {
   "cell_type": "markdown",
   "id": "7c4b5984-5dd5-4d2d-9a67-53d3e62a29aa",
   "metadata": {},
   "source": [
    "| Data Science Tools |\n",
    "|-------             |\n",
    "|Microsoft SQL Server|\n",
    "|Watson Studio       |\n",
    "|Apache Airflow      |"
   ]
  },
  {
   "cell_type": "markdown",
   "id": "fd31713a-af39-470f-9c01-612af8d0a920",
   "metadata": {},
   "source": [
    "***Below are few examples evaluating arithmetic expressions in Python***"
   ]
  },
  {
   "cell_type": "markdown",
   "id": "86b7c81b-141a-48ec-8b5e-ec5e8453ca6b",
   "metadata": {},
   "source": [
    "This a simple arithmetic expression to multiply then add integers"
   ]
  },
  {
   "cell_type": "code",
   "execution_count": 8,
   "id": "e40de870-e145-4ba5-9164-28c60c2cb793",
   "metadata": {},
   "outputs": [
    {
     "data": {
      "text/plain": [
       "17"
      ]
     },
     "execution_count": 8,
     "metadata": {},
     "output_type": "execute_result"
    }
   ],
   "source": [
    "(3*4)+5"
   ]
  },
  {
   "cell_type": "markdown",
   "id": "9e72bad0-480a-442e-8d6f-1e2c0c5d8dee",
   "metadata": {},
   "source": [
    "This will convert 200 minutes to hours by diving by 60"
   ]
  },
  {
   "cell_type": "code",
   "execution_count": 11,
   "id": "a7ae9e64-5728-4177-bd4d-ee0bd37d0aec",
   "metadata": {},
   "outputs": [
    {
     "data": {
      "text/plain": [
       "3.3333333333333335"
      ]
     },
     "execution_count": 11,
     "metadata": {},
     "output_type": "execute_result"
    }
   ],
   "source": [
    "200/60"
   ]
  },
  {
   "cell_type": "markdown",
   "id": "bc9eb038-0aa0-4fae-8148-d4409f981f6e",
   "metadata": {},
   "source": [
    "**Author**\n",
    "\n",
    "Hilario Carlos"
   ]
  },
  {
   "cell_type": "code",
   "execution_count": null,
   "id": "7a16d0bc-224f-4b43-8865-883e4c6e7937",
   "metadata": {},
   "outputs": [],
   "source": []
  }
 ],
 "metadata": {
  "kernelspec": {
   "display_name": "Python 3 (ipykernel)",
   "language": "python",
   "name": "python3"
  },
  "language_info": {
   "codemirror_mode": {
    "name": "ipython",
    "version": 3
   },
   "file_extension": ".py",
   "mimetype": "text/x-python",
   "name": "python",
   "nbconvert_exporter": "python",
   "pygments_lexer": "ipython3",
   "version": "3.12.8"
  }
 },
 "nbformat": 4,
 "nbformat_minor": 5
}
